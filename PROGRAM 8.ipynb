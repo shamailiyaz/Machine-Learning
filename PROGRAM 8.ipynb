{
 "cells": [
  {
   "cell_type": "code",
   "execution_count": 1,
   "id": "a3d3d004",
   "metadata": {},
   "outputs": [
    {
     "name": "stdout",
     "output_type": "stream",
     "text": [
      "Accuracy: 1.00\n",
      "Confusion Matrix: \n",
      " [[10  0  0]\n",
      " [ 0  9  0]\n",
      " [ 0  0 11]]\n",
      "\n",
      "Correct Predictions:\n",
      "Features: [6.1, 2.8, 4.7, 1.2], True Label: 1, Predicted Label: 1\n",
      "Features: [5.7, 3.8, 1.7, 0.3], True Label: 0, Predicted Label: 0\n",
      "Features: [7.7, 2.6, 6.9, 2.3], True Label: 2, Predicted Label: 2\n",
      "Features: [6.0, 2.9, 4.5, 1.5], True Label: 1, Predicted Label: 1\n",
      "Features: [6.8, 2.8, 4.8, 1.4], True Label: 1, Predicted Label: 1\n",
      "Features: [5.4, 3.4, 1.5, 0.4], True Label: 0, Predicted Label: 0\n",
      "Features: [5.6, 2.9, 3.6, 1.3], True Label: 1, Predicted Label: 1\n",
      "Features: [6.9, 3.1, 5.1, 2.3], True Label: 2, Predicted Label: 2\n",
      "Features: [6.2, 2.2, 4.5, 1.5], True Label: 1, Predicted Label: 1\n",
      "Features: [5.8, 2.7, 3.9, 1.2], True Label: 1, Predicted Label: 1\n",
      "Features: [6.5, 3.2, 5.1, 2.0], True Label: 2, Predicted Label: 2\n",
      "Features: [4.8, 3.0, 1.4, 0.1], True Label: 0, Predicted Label: 0\n",
      "Features: [5.5, 3.5, 1.3, 0.2], True Label: 0, Predicted Label: 0\n",
      "Features: [4.9, 3.1, 1.5, 0.1], True Label: 0, Predicted Label: 0\n",
      "Features: [5.1, 3.8, 1.5, 0.3], True Label: 0, Predicted Label: 0\n",
      "Features: [6.3, 3.3, 4.7, 1.6], True Label: 1, Predicted Label: 1\n",
      "Features: [6.5, 3.0, 5.8, 2.2], True Label: 2, Predicted Label: 2\n",
      "Features: [5.6, 2.5, 3.9, 1.1], True Label: 1, Predicted Label: 1\n",
      "Features: [5.7, 2.8, 4.5, 1.3], True Label: 1, Predicted Label: 1\n",
      "Features: [6.4, 2.8, 5.6, 2.2], True Label: 2, Predicted Label: 2\n",
      "Features: [4.7, 3.2, 1.6, 0.2], True Label: 0, Predicted Label: 0\n",
      "Features: [6.1, 3.0, 4.9, 1.8], True Label: 2, Predicted Label: 2\n",
      "Features: [5.0, 3.4, 1.6, 0.4], True Label: 0, Predicted Label: 0\n",
      "Features: [6.4, 2.8, 5.6, 2.1], True Label: 2, Predicted Label: 2\n",
      "Features: [7.9, 3.8, 6.4, 2.0], True Label: 2, Predicted Label: 2\n",
      "Features: [6.7, 3.0, 5.2, 2.3], True Label: 2, Predicted Label: 2\n",
      "Features: [6.7, 2.5, 5.8, 1.8], True Label: 2, Predicted Label: 2\n",
      "Features: [6.8, 3.2, 5.9, 2.3], True Label: 2, Predicted Label: 2\n",
      "Features: [4.8, 3.0, 1.4, 0.3], True Label: 0, Predicted Label: 0\n",
      "Features: [4.8, 3.1, 1.6, 0.2], True Label: 0, Predicted Label: 0\n",
      "\n",
      "Wrong Predictions:\n"
     ]
    }
   ],
   "source": [
    "import pandas as pd \n",
    "from sklearn.datasets import load_iris \n",
    "from sklearn.model_selection import train_test_split \n",
    "from sklearn.neighbors import KNeighborsClassifier \n",
    "from sklearn.metrics import accuracy_score \n",
    "iris = load_iris() \n",
    "data = pd.DataFrame(data=iris.data, columns=iris.feature_names) \n",
    "data['target'] = iris.target\n",
    "X = data.drop('target', axis=1) \n",
    "y = data['target'] \n",
    "X_train, X_test, y_train, y_test = train_test_split(X, y, test_size=0.2, \n",
    "random_state=42) \n",
    "k = 3  \n",
    "knn = KNeighborsClassifier(n_neighbors=k) \n",
    "knn.fit(X_train, y_train)\n",
    "KNeighborsClassifier(n_neighbors=3)\n",
    "y_pred = knn.predict(X_test)\n",
    "accuracy = accuracy_score(y_test, y_pred) \n",
    "print(f'Accuracy: {accuracy:.2f}')\n",
    "from sklearn.metrics import confusion_matrix \n",
    "cm = confusion_matrix(y_test, y_pred) \n",
    "print(\"Confusion Matrix: \\n\", cm)\n",
    "\n",
    "correct_predictions = [] \n",
    "wrong_predictions = []\n",
    "for i in range(len(y_test)): \n",
    "    if y_test.iloc[i] == y_pred[i]: \n",
    "        correct_predictions.append((X_test.iloc[i].tolist(), y_test.iloc[i], y_pred[i])) \n",
    "    else:\n",
    "        wrong_predictions.append((X_test.iloc[i].tolist(), y_test.iloc[i], y_pred[i])) \n",
    "print(\"\\nCorrect Predictions:\") \n",
    "for cp in correct_predictions: \n",
    "    print(f\"Features: {cp[0]}, True Label: {cp[1]}, Predicted Label: {cp[2]}\") \n",
    "print(\"\\nWrong Predictions:\") \n",
    "for wp in wrong_predictions: \n",
    "    print(f\"Features: {wp[0]}, True Label: {wp[1]}, Predicted Label: {wp[2]}\")"
   ]
  },
  {
   "cell_type": "code",
   "execution_count": null,
   "id": "e718d3d4",
   "metadata": {},
   "outputs": [],
   "source": []
  }
 ],
 "metadata": {
  "kernelspec": {
   "display_name": "Python 3 (ipykernel)",
   "language": "python",
   "name": "python3"
  },
  "language_info": {
   "codemirror_mode": {
    "name": "ipython",
    "version": 3
   },
   "file_extension": ".py",
   "mimetype": "text/x-python",
   "name": "python",
   "nbconvert_exporter": "python",
   "pygments_lexer": "ipython3",
   "version": "3.11.4"
  }
 },
 "nbformat": 4,
 "nbformat_minor": 5
}
