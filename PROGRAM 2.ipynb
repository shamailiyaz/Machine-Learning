{
 "cells": [
  {
   "cell_type": "code",
   "execution_count": 1,
   "id": "aa6f1bb7",
   "metadata": {},
   "outputs": [
    {
     "name": "stdout",
     "output_type": "stream",
     "text": [
      "Concepts:\n",
      " [['Sunny' 'Warm' 'Normal' 'Strong' 'Warm' 'Same']\n",
      " ['Sunny' 'Warm' 'High' 'Strong' 'Warm' 'Same']\n",
      " ['Rainy' 'Cold' 'High' 'Strong' 'Warm' 'Change']\n",
      " ['Sunny' 'Warm' 'High' 'Strong' 'Cool' 'Change']]\n",
      "Target:\n",
      " [1 1 0 1]\n",
      "Initialization of specific_h and general_h\n",
      "Specific_h: ['Sunny' 'Warm' 'Normal' 'Strong' 'Warm' 'Same']\n",
      "General_h: [['?', '?', '?', '?', '?', '?'], ['?', '?', '?', '?', '?', '?'], ['?', '?', '?', '?', '?', '?'], ['?', '?', '?', '?', '?', '?'], ['?', '?', '?', '?', '?', '?'], ['?', '?', '?', '?', '?', '?']]\n",
      "\n",
      "Steps of Candidate Elimination Algorithm: 1\n",
      "Specific_h: ['Sunny' 'Warm' 'Normal' 'Strong' 'Warm' 'Same']\n",
      "General_h: [['?', '?', '?', '?', '?', '?'], ['?', '?', '?', '?', '?', '?'], ['?', '?', '?', '?', '?', '?'], ['?', '?', '?', '?', '?', '?'], ['?', '?', '?', '?', '?', '?'], ['?', '?', '?', '?', '?', '?']]\n",
      "\n",
      "Steps of Candidate Elimination Algorithm: 2\n",
      "Specific_h: ['Sunny' 'Warm' 'Normal' 'Strong' 'Warm' 'Same']\n",
      "General_h: [['?', '?', '?', '?', '?', '?'], ['?', '?', '?', '?', '?', '?'], ['?', '?', 'Normal', '?', '?', '?'], ['?', '?', '?', '?', '?', '?'], ['?', '?', '?', '?', '?', '?'], ['?', '?', '?', '?', '?', '?']]\n",
      "\n",
      "Steps of Candidate Elimination Algorithm: 3\n",
      "Specific_h: ['Sunny' 'Warm' 'Normal' 'Strong' 'Warm' 'Same']\n",
      "General_h: [['Sunny', '?', '?', '?', '?', '?'], ['?', 'Warm', '?', '?', '?', '?'], ['?', '?', 'Normal', '?', '?', '?'], ['?', '?', '?', '?', '?', '?'], ['?', '?', '?', '?', '?', '?'], ['?', '?', '?', '?', '?', 'Same']]\n",
      "\n",
      "Steps of Candidate Elimination Algorithm: 4\n",
      "Specific_h: ['Sunny' 'Warm' 'Normal' 'Strong' 'Warm' 'Same']\n",
      "General_h: [['?', '?', '?', '?', '?', '?'], ['?', '?', '?', '?', '?', '?'], ['?', '?', 'Normal', '?', '?', '?'], ['?', '?', '?', '?', '?', '?'], ['?', '?', '?', '?', 'Warm', '?'], ['?', '?', '?', '?', '?', 'Same']]\n",
      "\n",
      "Final Specific_h: ['Sunny' 'Warm' 'Normal' 'Strong' 'Warm' 'Same']\n",
      "Final General_h: [['?', '?', '?', '?', '?', '?'], ['?', '?', '?', '?', '?', '?'], ['?', '?', 'Normal', '?', '?', '?'], ['?', '?', '?', '?', '?', '?'], ['?', '?', '?', '?', 'Warm', '?'], ['?', '?', '?', '?', '?', 'Same']]\n"
     ]
    }
   ],
   "source": [
    "import numpy as np\n",
    "import pandas as pd\n",
    "\n",
    "# Load the data\n",
    "data = pd.DataFrame(pd.read_csv('ENJOYSPORT.csv'))\n",
    "concepts = np.array(data.iloc[:, 0:-1])\n",
    "target = np.array(data.iloc[:, -1])\n",
    "\n",
    "print(\"Concepts:\\n\", concepts)\n",
    "print(\"Target:\\n\", target)\n",
    "\n",
    "def learn(concepts, target):\n",
    "    specific_h = concepts[0].copy()\n",
    "    print(\"Initialization of specific_h and general_h\")\n",
    "    print(\"Specific_h:\", specific_h)\n",
    "\n",
    "    general_h = [[\"?\" for i in range(len(specific_h))] for _ in range(len(specific_h))]\n",
    "    print(\"General_h:\", general_h)\n",
    "\n",
    "    for i, h in enumerate(concepts):\n",
    "        if target[i] == \"Yes\":  # Assuming 'Yes' means positive instance\n",
    "            for x in range(len(specific_h)):\n",
    "                if h[x] != specific_h[x]:\n",
    "                    specific_h[x] = '?'\n",
    "                    general_h[x][x] = '?'\n",
    "        else:  # Assuming 'No' means negative instance\n",
    "            for x in range(len(specific_h)):\n",
    "                if h[x] != specific_h[x]:\n",
    "                    general_h[x][x] = specific_h[x]\n",
    "                else:\n",
    "                    general_h[x][x] = '?'\n",
    "        \n",
    "        print(f\"\\nSteps of Candidate Elimination Algorithm: {i + 1}\")\n",
    "        print(\"Specific_h:\", specific_h)\n",
    "        print(\"General_h:\", general_h)\n",
    "    \n",
    "    # Remove fully generalized hypotheses\n",
    "    indices = [i for i, val in enumerate(general_h) if val == ['?'] * len(specific_h)]\n",
    "    for i in indices:\n",
    "        general_h[i] = ['?'] * len(specific_h)\n",
    "    \n",
    "    return specific_h, general_h\n",
    "\n",
    "s_final, g_final = learn(concepts, target)\n",
    "print(\"\\nFinal Specific_h:\", s_final)\n",
    "print(\"Final General_h:\", g_final)\n"
   ]
  },
  {
   "cell_type": "code",
   "execution_count": null,
   "id": "4e3a5a45",
   "metadata": {},
   "outputs": [],
   "source": []
  }
 ],
 "metadata": {
  "kernelspec": {
   "display_name": "Python 3 (ipykernel)",
   "language": "python",
   "name": "python3"
  },
  "language_info": {
   "codemirror_mode": {
    "name": "ipython",
    "version": 3
   },
   "file_extension": ".py",
   "mimetype": "text/x-python",
   "name": "python",
   "nbconvert_exporter": "python",
   "pygments_lexer": "ipython3",
   "version": "3.11.4"
  }
 },
 "nbformat": 4,
 "nbformat_minor": 5
}
