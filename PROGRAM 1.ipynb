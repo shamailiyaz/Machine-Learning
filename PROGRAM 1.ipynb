{
 "cells": [
  {
   "cell_type": "code",
   "execution_count": 1,
   "id": "041f87e3",
   "metadata": {},
   "outputs": [
    {
     "name": "stdout",
     "output_type": "stream",
     "text": [
      "  Day   Outlook Temperature Humidity    Wind PlayTennis\n",
      "0  D1     Sunny         Hot     High    Weak         No\n",
      "1  D2     Sunny         Hot     High  Strong         No\n",
      "2  D3  Overcast         Hot     High    Weak        Yes\n",
      "3  D4      Rain        Mild     High    Weak        Yes\n",
      "4  D5      Rain        Cool   Normal    Weak        Yes\n",
      "    Outlook Temperature Humidity    Wind PlayTennis\n",
      "0     Sunny         Hot     High    Weak         No\n",
      "1     Sunny         Hot     High  Strong         No\n",
      "2  Overcast         Hot     High    Weak        Yes\n",
      "3      Rain        Mild     High    Weak        Yes\n",
      "4      Rain        Cool   Normal    Weak        Yes\n",
      "Attributes:\n",
      " [['Sunny' 'Hot' 'High' 'Weak']\n",
      " ['Sunny' 'Hot' 'High' 'Strong']\n",
      " ['Overcast' 'Hot' 'High' 'Weak']\n",
      " ['Rain' 'Mild' 'High' 'Weak']\n",
      " ['Rain' 'Cool' 'Normal' 'Weak']\n",
      " ['Rain' 'Cool' 'Normal' 'Strong']\n",
      " ['Overcast' 'Cool' 'Normal' 'Strong']\n",
      " ['Sunny' 'Mild' 'High' 'Weak']\n",
      " ['Sunny' 'Cool' 'Normal' 'Weak']\n",
      " ['Rain' 'Mild' 'Normal' 'Weak']\n",
      " ['Sunny' 'Mild' 'Normal' 'Strong']\n",
      " ['Overcast' 'Mild' 'High' 'Strong']\n",
      " ['Overcast' 'Hot' 'Normal' 'Weak']\n",
      " ['Rain' 'Mild' 'High' 'Strong']]\n",
      "Target:\n",
      " ['No' 'No' 'Yes' 'Yes' 'Yes' 'No' 'Yes' 'No' 'Yes' 'Yes' 'Yes' 'Yes' 'Yes'\n",
      " 'No']\n",
      "\n",
      "Specific Hypothesis:\n",
      " ['?' '?' '?' '?']\n"
     ]
    }
   ],
   "source": [
    "import numpy as np \n",
    "import pandas as pd \n",
    "\n",
    "# Load the dataset\n",
    "data = pd.read_csv('Dataset10.csv') \n",
    "\n",
    "# Display the first few rows of the dataset\n",
    "print(data.head()) \n",
    "\n",
    "# Drop the 'Day' column\n",
    "data = data.drop(['Day'], axis=1) \n",
    "\n",
    "# Display the first few rows of the dataset after dropping the column\n",
    "print(data.head()) \n",
    "\n",
    "# Extract attributes and target\n",
    "attributes = np.array(data)[:, :-1] \n",
    "print(\"Attributes:\\n\", attributes) \n",
    "\n",
    "target = np.array(data)[:, -1] \n",
    "print(\"Target:\\n\", target) \n",
    "\n",
    "# Define the training function\n",
    "def train(att, tar): \n",
    "    for i, val in enumerate(tar): \n",
    "        if val == 'Yes': \n",
    "            specific_h = att[i].copy() \n",
    "            break \n",
    "    \n",
    "    for i, val in enumerate(att): \n",
    "        if tar[i] == 'Yes': \n",
    "            for x in range(len(specific_h)): \n",
    "                if val[x] != specific_h[x]: \n",
    "                    specific_h[x] = '?' \n",
    "    \n",
    "    return specific_h \n",
    "\n",
    "# Train the model and get the specific hypothesis\n",
    "specific_hypothesis = train(attributes, target) \n",
    "print(\"\\nSpecific Hypothesis:\\n\", specific_hypothesis)\n"
   ]
  },
  {
   "cell_type": "code",
   "execution_count": null,
   "id": "1c5a2898",
   "metadata": {},
   "outputs": [],
   "source": []
  }
 ],
 "metadata": {
  "kernelspec": {
   "display_name": "Python 3 (ipykernel)",
   "language": "python",
   "name": "python3"
  },
  "language_info": {
   "codemirror_mode": {
    "name": "ipython",
    "version": 3
   },
   "file_extension": ".py",
   "mimetype": "text/x-python",
   "name": "python",
   "nbconvert_exporter": "python",
   "pygments_lexer": "ipython3",
   "version": "3.11.4"
  }
 },
 "nbformat": 4,
 "nbformat_minor": 5
}
