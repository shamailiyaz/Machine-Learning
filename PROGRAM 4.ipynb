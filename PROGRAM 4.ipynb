{
 "cells": [
  {
   "cell_type": "code",
   "execution_count": 1,
   "id": "bd321920",
   "metadata": {},
   "outputs": [
    {
     "name": "stdout",
     "output_type": "stream",
     "text": [
      "\n",
      "Input:\n",
      " [[0.66666667 1.        ]\n",
      " [0.33333333 0.55555556]\n",
      " [1.         0.66666667]]\n",
      "\n",
      "Actual Output:\n",
      " [[0.92]\n",
      " [0.86]\n",
      " [0.89]]\n",
      "\n",
      "Predicted Output:\n",
      " [[0.89226345]\n",
      " [0.87786956]\n",
      " [0.89426257]]\n"
     ]
    }
   ],
   "source": [
    "import numpy as np\n",
    "\n",
    "# Input data\n",
    "X = np.array(([2, 9], [1, 5], [3, 6]), dtype=float)\n",
    "y = np.array(([92], [86], [89]), dtype=float)\n",
    "\n",
    "# Normalize the input data\n",
    "X = X / np.amax(X, axis=0)  # Maximum of X array longitudinally\n",
    "y = y / 100  # Normalize output values\n",
    "\n",
    "# Sigmoid Function\n",
    "def sigmoid(x):\n",
    "    return 1 / (1 + np.exp(-x))\n",
    "\n",
    "# Derivative of Sigmoid Function\n",
    "def derivatives_sigmoid(x):\n",
    "    return x * (1 - x)\n",
    "\n",
    "# Variable initialization\n",
    "epoch = 500  # Number of iterations\n",
    "lr = 0.1  # Learning rate\n",
    "inputlayer_neurons = 2  # Number of features in dataset\n",
    "hiddenlayer_neurons = 3  # Number of hidden layer neurons\n",
    "output_neurons = 1  # Number of output neurons\n",
    "\n",
    "# Weight and bias initialization\n",
    "wh = np.random.uniform(size=(inputlayer_neurons, hiddenlayer_neurons))\n",
    "bh = np.random.uniform(size=(1, hiddenlayer_neurons))\n",
    "wout = np.random.uniform(size=(hiddenlayer_neurons, output_neurons))\n",
    "bout = np.random.uniform(size=(1, output_neurons))\n",
    "\n",
    "# Training the model\n",
    "for i in range(epoch):\n",
    "    # Forward Propagation\n",
    "    hinp1 = np.dot(X, wh)\n",
    "    hinp = hinp1 + bh\n",
    "    hlayer_act = sigmoid(hinp)\n",
    "    outinp1 = np.dot(hlayer_act, wout)\n",
    "    outinp = outinp1 + bout\n",
    "    output = sigmoid(outinp)\n",
    "\n",
    "    # Backpropagation\n",
    "    EO = y - output\n",
    "    outgrad = derivatives_sigmoid(output)\n",
    "    d_output = EO * outgrad\n",
    "    EH = d_output.dot(wout.T)\n",
    "    hiddengrad = derivatives_sigmoid(hlayer_act)\n",
    "    d_hiddenlayer = EH * hiddengrad\n",
    "\n",
    "    # Weight updates\n",
    "    wout += hlayer_act.T.dot(d_output) * lr\n",
    "    wh += X.T.dot(d_hiddenlayer) * lr\n",
    "\n",
    "# Print final results\n",
    "print(\"\\nInput:\\n\", X)\n",
    "print(\"\\nActual Output:\\n\", y)\n",
    "print(\"\\nPredicted Output:\\n\", output)\n"
   ]
  },
  {
   "cell_type": "code",
   "execution_count": null,
   "id": "375a9da5",
   "metadata": {},
   "outputs": [],
   "source": []
  }
 ],
 "metadata": {
  "kernelspec": {
   "display_name": "Python 3 (ipykernel)",
   "language": "python",
   "name": "python3"
  },
  "language_info": {
   "codemirror_mode": {
    "name": "ipython",
    "version": 3
   },
   "file_extension": ".py",
   "mimetype": "text/x-python",
   "name": "python",
   "nbconvert_exporter": "python",
   "pygments_lexer": "ipython3",
   "version": "3.11.4"
  }
 },
 "nbformat": 4,
 "nbformat_minor": 5
}
